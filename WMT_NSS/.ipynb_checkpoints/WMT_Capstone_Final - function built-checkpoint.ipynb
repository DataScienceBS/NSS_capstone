{
 "cells": [
  {
   "cell_type": "code",
   "execution_count": 1,
   "metadata": {
    "ExecuteTime": {
     "end_time": "2018-07-18T00:34:18.910551Z",
     "start_time": "2018-07-18T00:34:17.257291Z"
    }
   },
   "outputs": [],
   "source": [
    "import pandas as pd\n",
    "import csv\n",
    "import re\n",
    "import warnings\n",
    "import time \n",
    "warnings.filterwarnings('ignore')"
   ]
  },
  {
   "cell_type": "code",
   "execution_count": 2,
   "metadata": {
    "ExecuteTime": {
     "end_time": "2018-07-18T00:34:19.017262Z",
     "start_time": "2018-07-18T00:34:18.911507Z"
    }
   },
   "outputs": [],
   "source": [
    "#file = \"big_df_v2.csv\"  #large file for production\n",
    "file = \"small_R_df.csv\"       #small file for development\n",
    "df = pd.read_csv('private/'+file, delimiter='|', encoding='latin-1')"
   ]
  },
  {
   "cell_type": "code",
   "execution_count": 3,
   "metadata": {
    "ExecuteTime": {
     "end_time": "2018-07-18T00:34:19.076074Z",
     "start_time": "2018-07-18T00:34:19.019219Z"
    }
   },
   "outputs": [],
   "source": [
    "#### stripping HTML tags ####\n",
    "p = '<.*?>'\n",
    "for col in df.columns:\n",
    "    df[col] = df[col].replace(p, '', regex=True)"
   ]
  },
  {
   "cell_type": "code",
   "execution_count": 4,
   "metadata": {
    "ExecuteTime": {
     "end_time": "2018-07-18T00:34:19.117960Z",
     "start_time": "2018-07-18T00:34:19.078065Z"
    }
   },
   "outputs": [
    {
     "data": {
      "text/plain": [
       "model           3358\n",
       "shortDn           15\n",
       "parentItemId      14\n",
       "itemId            10\n",
       "main_cat           0\n",
       "sub_cat            0\n",
       "catNode            0\n",
       "longDn             0\n",
       "categoryPath       0\n",
       "name               0\n",
       "dtype: int64"
      ]
     },
     "execution_count": 4,
     "metadata": {},
     "output_type": "execute_result"
    }
   ],
   "source": [
    "# splitting categories into main and sub, dropping non-Book main categories #\n",
    "regex = r\"\\/(.*?)\\/.*\"\n",
    "\n",
    "df['sub_cat'] = df['categoryPath'].str.extract(regex) # sub categories, one level below Books.\n",
    "df['main_cat'] = df['categoryPath'].astype(str).str[:5] \n",
    "df = df[df.main_cat == 'Books'] #dropping non-Book categories\n",
    "\n",
    "# drop rows missing critical data #\n",
    "df = df.dropna(axis=0, how='any', subset=['longDn', 'sub_cat','name'])\n",
    "df.isnull().sum().sort_values(ascending=False)"
   ]
  },
  {
   "cell_type": "code",
   "execution_count": 5,
   "metadata": {
    "ExecuteTime": {
     "end_time": "2018-07-18T00:34:19.135907Z",
     "start_time": "2018-07-18T00:34:19.120986Z"
    }
   },
   "outputs": [
    {
     "name": "stdout",
     "output_type": "stream",
     "text": [
      "There are 47 categories of books.\n",
      "4 categories have more than 100 books.\n"
     ]
    }
   ],
   "source": [
    "print(\"There are \" + str(len(df.sub_cat.value_counts())) + \" categories of books.\")\n",
    "counts = df['sub_cat'].value_counts()\n",
    "threshold = 100\n",
    "print(str(len(counts[counts>threshold])) + \" categories have more than \" + str(threshold) +\" books.\")"
   ]
  },
  {
   "cell_type": "code",
   "execution_count": 6,
   "metadata": {
    "ExecuteTime": {
     "end_time": "2018-07-18T00:34:19.166826Z",
     "start_time": "2018-07-18T00:34:19.139898Z"
    }
   },
   "outputs": [
    {
     "name": "stdout",
     "output_type": "stream",
     "text": [
      "Arts & Entertainment Books                  1227\n",
      "Children's & Kids' Books                     679\n",
      "Business & Money Books                       467\n",
      "Biographies & Memoirs                        453\n",
      "Walmart Books Best Sellers                    73\n",
      "Religion & Spirituality Books                 71\n",
      "Literature & Fiction Books                    60\n",
      "History Books                                 38\n",
      "Crafts & Hobbies Books                        32\n",
      "Back to School Books                          32\n",
      "Self-Help Books                               28\n",
      "Teen & Young Adult Books                      26\n",
      "Comic Books & Graphic Novels                  26\n",
      "Mother's Day Books                            21\n",
      "Libros en Espanol                             20\n",
      "Science & Nature Books                        19\n",
      "Medical Books                                 17\n",
      "Arts & Entertainment                          17\n",
      "Cookbooks, Food & Wine                        16\n",
      "Reference Books                               16\n",
      "Education Books                               13\n",
      "Study Aids & Test Prep Books                  12\n",
      "Humor Books                                   11\n",
      "Father's Day Books                            11\n",
      "Health & Wellness Books                       10\n",
      "Women's History Month Books                   10\n",
      "Computers & Technology Books                   9\n",
      "Dieting & Fitness Books                        9\n",
      "Foreign Language Study & Reference Books       7\n",
      "Mathematics Books                              7\n",
      "House, Home & Gardening Books                  6\n",
      "Travel Books                                   5\n",
      "Psychology & Social Science Books              5\n",
      "Parenting & Family Books                       4\n",
      "Political Books                                4\n",
      "Nonfiction                                     3\n",
      "Language Arts & Disciplines Books              3\n",
      "Law Books                                      2\n",
      "Business & Money                               2\n",
      "Name: sub_cat, dtype: int64\n"
     ]
    }
   ],
   "source": [
    "Top_40_cats = df.sub_cat.value_counts().iloc[:39].index.tolist()\n",
    "\n",
    "# Print number of titles represented in each of the Top 40 categories #\n",
    "print(df.sub_cat.value_counts().iloc[:39])\n"
   ]
  },
  {
   "cell_type": "code",
   "execution_count": 7,
   "metadata": {
    "ExecuteTime": {
     "end_time": "2018-07-18T00:34:19.176832Z",
     "start_time": "2018-07-18T00:34:19.168819Z"
    }
   },
   "outputs": [],
   "source": [
    "# Only keep records for top n populated categories (drop sparsely populated categories) #\n",
    "df = df.loc[df['sub_cat'].isin(Top_40_cats)]"
   ]
  },
  {
   "cell_type": "markdown",
   "metadata": {},
   "source": [
    "# Preparing Corpus and BOW for LDA Topic Modeling with Gensim\n",
    "#### references used:\n",
    "> http://mallet.cs.umass.edu/  \n",
    "> https://radimrehurek.com/gensim/models/ldamodel.html  \n",
    "> https://www.machinelearningplus.com/nlp/topic-modeling-gensim-python/  \n",
    "> https://radimrehurek.com/gensim/models/wrappers/ldamallet.html"
   ]
  },
  {
   "cell_type": "code",
   "execution_count": 8,
   "metadata": {
    "ExecuteTime": {
     "end_time": "2018-07-18T00:34:24.000145Z",
     "start_time": "2018-07-18T00:34:19.179790Z"
    }
   },
   "outputs": [],
   "source": [
    "import warnings\n",
    "warnings.filterwarnings(\"ignore\",category=DeprecationWarning)\n",
    "\n",
    "import nltk#; nltk.download('stopwords')\n",
    "#!python3 -m spacy download en"
   ]
  },
  {
   "cell_type": "code",
   "execution_count": 9,
   "metadata": {
    "ExecuteTime": {
     "end_time": "2018-07-18T00:34:26.592699Z",
     "start_time": "2018-07-18T00:34:24.004148Z"
    }
   },
   "outputs": [
    {
     "name": "stderr",
     "output_type": "stream",
     "text": [
      "C:\\ProgramData\\Anaconda3\\lib\\site-packages\\sklearn\\decomposition\\nmf.py:972: DeprecationWarning: invalid escape sequence \\s\n",
      "  \"\"\"\n",
      "C:\\ProgramData\\Anaconda3\\lib\\site-packages\\sklearn\\decomposition\\nmf.py:1186: DeprecationWarning: invalid escape sequence \\s\n",
      "  \"\"\"\n",
      "C:\\ProgramData\\Anaconda3\\lib\\site-packages\\sklearn\\manifold\\t_sne.py:420: DeprecationWarning: invalid escape sequence \\s\n",
      "  \"\"\"\n"
     ]
    }
   ],
   "source": [
    "import numpy as np\n",
    "from pprint import pprint\n",
    "\n",
    "import gensim\n",
    "import gensim.corpora as corpora\n",
    "from gensim.utils import simple_preprocess\n",
    "from gensim.models import CoherenceModel\n",
    "import spacy\n",
    "\n",
    "# Fancy LDA visualization tool\n",
    "import pyLDAvis\n",
    "import pyLDAvis.gensim  # don't skip this\n",
    "import matplotlib.pyplot as plt\n",
    "%matplotlib inline\n",
    "\n",
    "# Enable gensim logging \n",
    "import logging\n",
    "logging.basicConfig(format='%(asctime)s : %(levelname)s : %(message)s', level=logging.ERROR)"
   ]
  },
  {
   "cell_type": "code",
   "execution_count": 10,
   "metadata": {
    "ExecuteTime": {
     "end_time": "2018-07-18T00:34:26.603631Z",
     "start_time": "2018-07-18T00:34:26.593694Z"
    }
   },
   "outputs": [],
   "source": [
    "from nltk.corpus import stopwords\n",
    "stop_words = stopwords.words('english')\n",
    "stop_words.extend(['book'])\n",
    "#stop_words.extend(['book', 'new']) # decided extra stop words could be introducing bias "
   ]
  },
  {
   "cell_type": "code",
   "execution_count": 11,
   "metadata": {
    "ExecuteTime": {
     "end_time": "2018-07-18T00:34:26.616595Z",
     "start_time": "2018-07-18T00:34:26.605627Z"
    }
   },
   "outputs": [
    {
     "name": "stdout",
     "output_type": "stream",
     "text": [
      "['Arts & Entertainment Books' \"Children's & Kids' Books\"\n",
      " 'Business & Money Books' 'Cookbooks, Food & Wine'\n",
      " 'Crafts & Hobbies Books' 'Walmart Books Best Sellers'\n",
      " 'Literature & Fiction Books' 'Religion & Spirituality Books'\n",
      " \"Mother's Day Books\" 'Dieting & Fitness Books'\n",
      " 'Study Aids & Test Prep Books' 'Health & Wellness Books'\n",
      " 'Biographies & Memoirs' 'Reference Books' 'Humor Books'\n",
      " 'Libros en Espanol' 'Computers & Technology Books'\n",
      " 'Comic Books & Graphic Novels' 'Parenting & Family Books'\n",
      " 'Teen & Young Adult Books' 'Medical Books' 'Self-Help Books'\n",
      " \"Father's Day Books\" 'History Books' 'Psychology & Social Science Books'\n",
      " 'House, Home & Gardening Books' 'Travel Books' 'Education Books'\n",
      " \"Women's History Month Books\" 'Science & Nature Books'\n",
      " 'Arts & Entertainment' 'Language Arts & Disciplines Books' 'Law Books'\n",
      " 'Back to School Books' 'Foreign Language Study & Reference Books'\n",
      " 'Mathematics Books' 'Political Books' 'Business & Money' 'Nonfiction']\n"
     ]
    }
   ],
   "source": [
    "# reviewing unique categories #\n",
    "print(df.sub_cat.unique())"
   ]
  },
  {
   "cell_type": "code",
   "execution_count": 12,
   "metadata": {
    "ExecuteTime": {
     "end_time": "2018-07-18T00:34:26.629562Z",
     "start_time": "2018-07-18T00:34:26.621587Z"
    }
   },
   "outputs": [],
   "source": [
    "data = df.longDn.values.tolist()"
   ]
  },
  {
   "cell_type": "code",
   "execution_count": 13,
   "metadata": {
    "ExecuteTime": {
     "end_time": "2018-07-18T00:34:27.056566Z",
     "start_time": "2018-07-18T00:34:26.631557Z"
    }
   },
   "outputs": [
    {
     "name": "stderr",
     "output_type": "stream",
     "text": [
      "<input>:12: DeprecationWarning: invalid escape sequence \\|\n",
      "<input>:12: DeprecationWarning: invalid escape sequence \\|\n",
      "<input>:12: DeprecationWarning: invalid escape sequence \\|\n",
      "<input>:12: DeprecationWarning: invalid escape sequence \\|\n",
      "<input>:12: DeprecationWarning: invalid escape sequence \\|\n",
      "<input>:12: DeprecationWarning: invalid escape sequence \\|\n",
      "<input>:12: DeprecationWarning: invalid escape sequence \\|\n",
      "<input>:12: DeprecationWarning: invalid escape sequence \\|\n",
      "<input>:12: DeprecationWarning: invalid escape sequence \\|\n",
      "<input>:12: DeprecationWarning: invalid escape sequence \\|\n",
      "<input>:12: DeprecationWarning: invalid escape sequence \\|\n",
      "<input>:12: DeprecationWarning: invalid escape sequence \\|\n",
      "<input>:12: DeprecationWarning: invalid escape sequence \\|\n",
      "<input>:16: DeprecationWarning: invalid escape sequence \\s\n",
      "<input>:12: DeprecationWarning: invalid escape sequence \\|\n",
      "<input>:16: DeprecationWarning: invalid escape sequence \\s\n",
      "<input>:12: DeprecationWarning: invalid escape sequence \\|\n",
      "<input>:16: DeprecationWarning: invalid escape sequence \\s\n",
      "<ipython-input-13-05518dedb477>:12: DeprecationWarning: invalid escape sequence \\|\n",
      "  data = [re.sub(\"\\|\", \" \", sent) for sent in data]\n",
      "<ipython-input-13-05518dedb477>:16: DeprecationWarning: invalid escape sequence \\s\n",
      "  data = [re.sub(\"\\s+\", \" \", sent) for sent in data] #strip extra spaces\n"
     ]
    }
   ],
   "source": [
    "# converting contractions\n",
    "data = [re.sub(\"won't\",\"will not\", sent) for sent in data]\n",
    "data = [re.sub(\"can't\",\"can not\", sent) for sent in data]\n",
    "data = [re.sub(\"n't\",\"not\", sent) for sent in data]\n",
    "data = [re.sub(\"\\'ll\",\" will\", sent) for sent in data]\n",
    "data = [re.sub(\"\\'re\",\" are\", sent) for sent in data]\n",
    "data = [re.sub(\"\\'ve\",\" have\", sent) for sent in data]\n",
    "\n",
    "# removing any single quotes\n",
    "data = [re.sub(\"\\'\", \" \", sent) for sent in data] \n",
    "# removing pipes to help with saving csv as pipe-delimited\n",
    "data = [re.sub(\"\\|\", \" \", sent) for sent in data]\n",
    "# leave only letters and numbers (makes above lines redundant, but that's ok)\n",
    "data = [re.sub(\"[^a-zA-Z0-9 ]\", \" \", sent) for sent in data]\n",
    "# removing any extraneous spaces\n",
    "data = [re.sub(\"\\s+\", \" \", sent) for sent in data] #strip extra spaces"
   ]
  },
  {
   "cell_type": "code",
   "execution_count": 14,
   "metadata": {
    "ExecuteTime": {
     "end_time": "2018-07-18T00:34:27.064584Z",
     "start_time": "2018-07-18T00:34:27.057565Z"
    }
   },
   "outputs": [
    {
     "data": {
      "text/plain": [
       "'New York Times bestseller More than Five million copies sold You CAN take control of your money Build up your money muscles with America s favorite finance coach Okay folks do you want to turn those fat and flabby expenses into a well toned budget Do you want to transform your sad and skinny little bank account into a bulked up cash machine Then get with the program people There s one sure way to whip your finances into shape and that s with The Total Money Makeover Classic Edition By now you have heard all the nutty get rich quick schemes the fiscal diet fads that leave you with a lot of kooky ideas but not a penny in your pocket Hey if you are tired of the lies and sick of the false promises take a look at this it s the simplest most straightforward game plan for completely making over your money habits And it s based on results not pie in the sky fantasies With The Total Money Makeover Classic Edition you will be able to Design a sure fire plan for paying off all debt meaning cars houses everythingRecognize the 10 most dangerous money myths these will kill you Secure a big fat nest egg for emergencies and retirement Includes new expanded Dave Rants sidebars tackle marriage conflict college debt and more All new forms and back of the book resources to make Total Money Makeover a reality Dive deeper into Dave s game plan with The Total Money Makeover Workbook Classic Edition The Total Money Makeover Classic Edition is also available in Spanish transformaci n total de su dinero '"
      ]
     },
     "execution_count": 14,
     "metadata": {},
     "output_type": "execute_result"
    }
   ],
   "source": [
    "# random check to ensure clean data\n",
    "data[300]"
   ]
  },
  {
   "cell_type": "code",
   "execution_count": 15,
   "metadata": {
    "ExecuteTime": {
     "end_time": "2018-07-18T00:34:28.478990Z",
     "start_time": "2018-07-18T00:34:27.066541Z"
    }
   },
   "outputs": [],
   "source": [
    "def sent_to_words(sentences):\n",
    "    for sentence in sentences:\n",
    "        yield(gensim.utils.simple_preprocess(str(sentence), deacc=True))  # deacc=True removes punctuations\n",
    "\n",
    "data_words = list(sent_to_words(data))"
   ]
  },
  {
   "cell_type": "code",
   "execution_count": 16,
   "metadata": {
    "ExecuteTime": {
     "end_time": "2018-07-18T00:34:36.173157Z",
     "start_time": "2018-07-18T00:34:28.480691Z"
    }
   },
   "outputs": [],
   "source": [
    "# Build the bigrams and trigrams\n",
    "bigram = gensim.models.Phrases(data_words, min_count=5, threshold=50) # higher threshold fewer phrases.\n",
    "trigram = gensim.models.Phrases(bigram[data_words], threshold=100)  \n",
    "\n",
    "# Faster way to get a sentence clubbed as a trigram/bigram\n",
    "bigram_mod = gensim.models.phrases.Phraser(bigram)\n",
    "trigram_mod = gensim.models.phrases.Phraser(trigram)\n"
   ]
  },
  {
   "cell_type": "code",
   "execution_count": 17,
   "metadata": {
    "ExecuteTime": {
     "end_time": "2018-07-18T00:34:36.194062Z",
     "start_time": "2018-07-18T00:34:36.174115Z"
    }
   },
   "outputs": [],
   "source": [
    "def remove_stopwords(texts):\n",
    "    return [[word for word in simple_preprocess(str(doc)) if word not in stop_words] for doc in texts]\n",
    "\n",
    "def make_bigrams(texts):\n",
    "    return [bigram_mod[doc] for doc in texts]\n",
    "\n",
    "def make_trigrams(texts):\n",
    "    return [trigram_mod[bigram_mod[doc]] for doc in texts]\n",
    "\n",
    "def lemmatization(texts, allowed_postags=['NOUN', 'ADJ', 'VERB', 'ADV']):\n",
    "    \"\"\"https://spacy.io/api/annotation\"\"\"\n",
    "    texts_out = []\n",
    "    for sent in texts:\n",
    "        doc = nlp(\" \".join(sent)) \n",
    "        texts_out.append([token.lemma_ for token in doc if token.pos_ in allowed_postags])\n",
    "    return texts_out\n"
   ]
  },
  {
   "cell_type": "code",
   "execution_count": 18,
   "metadata": {
    "ExecuteTime": {
     "end_time": "2018-07-18T00:35:06.304535Z",
     "start_time": "2018-07-18T00:34:36.198053Z"
    }
   },
   "outputs": [
    {
     "name": "stderr",
     "output_type": "stream",
     "text": [
      "C:\\ProgramData\\Anaconda3\\lib\\site-packages\\msgpack_numpy.py:84: DeprecationWarning: The binary mode of fromstring is deprecated, as it behaves surprisingly on unicode inputs. Use frombuffer instead\n",
      "  dtype=np.dtype(descr)).reshape(obj[b'shape'])\n",
      "C:\\ProgramData\\Anaconda3\\lib\\site-packages\\msgpack_numpy.py:88: DeprecationWarning: The binary mode of fromstring is deprecated, as it behaves surprisingly on unicode inputs. Use frombuffer instead\n",
      "  dtype=np.dtype(descr))[0]\n",
      "C:\\ProgramData\\Anaconda3\\lib\\site-packages\\msgpack_numpy.py:84: DeprecationWarning: The binary mode of fromstring is deprecated, as it behaves surprisingly on unicode inputs. Use frombuffer instead\n",
      "  dtype=np.dtype(descr)).reshape(obj[b'shape'])\n",
      "C:\\ProgramData\\Anaconda3\\lib\\site-packages\\msgpack_numpy.py:84: DeprecationWarning: The binary mode of fromstring is deprecated, as it behaves surprisingly on unicode inputs. Use frombuffer instead\n",
      "  dtype=np.dtype(descr)).reshape(obj[b'shape'])\n",
      "C:\\ProgramData\\Anaconda3\\lib\\site-packages\\msgpack_numpy.py:88: DeprecationWarning: The binary mode of fromstring is deprecated, as it behaves surprisingly on unicode inputs. Use frombuffer instead\n",
      "  dtype=np.dtype(descr))[0]\n",
      "C:\\ProgramData\\Anaconda3\\lib\\site-packages\\msgpack_numpy.py:84: DeprecationWarning: The binary mode of fromstring is deprecated, as it behaves surprisingly on unicode inputs. Use frombuffer instead\n",
      "  dtype=np.dtype(descr)).reshape(obj[b'shape'])\n",
      "C:\\ProgramData\\Anaconda3\\lib\\site-packages\\msgpack_numpy.py:84: DeprecationWarning: The binary mode of fromstring is deprecated, as it behaves surprisingly on unicode inputs. Use frombuffer instead\n",
      "  dtype=np.dtype(descr)).reshape(obj[b'shape'])\n",
      "C:\\ProgramData\\Anaconda3\\lib\\site-packages\\msgpack_numpy.py:88: DeprecationWarning: The binary mode of fromstring is deprecated, as it behaves surprisingly on unicode inputs. Use frombuffer instead\n",
      "  dtype=np.dtype(descr))[0]\n",
      "C:\\ProgramData\\Anaconda3\\lib\\site-packages\\msgpack_numpy.py:84: DeprecationWarning: The binary mode of fromstring is deprecated, as it behaves surprisingly on unicode inputs. Use frombuffer instead\n",
      "  dtype=np.dtype(descr)).reshape(obj[b'shape'])\n",
      "C:\\ProgramData\\Anaconda3\\lib\\site-packages\\msgpack_numpy.py:84: DeprecationWarning: The binary mode of fromstring is deprecated, as it behaves surprisingly on unicode inputs. Use frombuffer instead\n",
      "  dtype=np.dtype(descr)).reshape(obj[b'shape'])\n",
      "C:\\ProgramData\\Anaconda3\\lib\\site-packages\\msgpack_numpy.py:88: DeprecationWarning: The binary mode of fromstring is deprecated, as it behaves surprisingly on unicode inputs. Use frombuffer instead\n",
      "  dtype=np.dtype(descr))[0]\n",
      "C:\\ProgramData\\Anaconda3\\lib\\site-packages\\msgpack_numpy.py:84: DeprecationWarning: The binary mode of fromstring is deprecated, as it behaves surprisingly on unicode inputs. Use frombuffer instead\n",
      "  dtype=np.dtype(descr)).reshape(obj[b'shape'])\n",
      "C:\\ProgramData\\Anaconda3\\lib\\site-packages\\msgpack_numpy.py:84: DeprecationWarning: The binary mode of fromstring is deprecated, as it behaves surprisingly on unicode inputs. Use frombuffer instead\n",
      "  dtype=np.dtype(descr)).reshape(obj[b'shape'])\n",
      "C:\\ProgramData\\Anaconda3\\lib\\site-packages\\msgpack_numpy.py:88: DeprecationWarning: The binary mode of fromstring is deprecated, as it behaves surprisingly on unicode inputs. Use frombuffer instead\n",
      "  dtype=np.dtype(descr))[0]\n",
      "C:\\ProgramData\\Anaconda3\\lib\\site-packages\\msgpack_numpy.py:84: DeprecationWarning: The binary mode of fromstring is deprecated, as it behaves surprisingly on unicode inputs. Use frombuffer instead\n",
      "  dtype=np.dtype(descr)).reshape(obj[b'shape'])\n",
      "C:\\ProgramData\\Anaconda3\\lib\\site-packages\\msgpack_numpy.py:84: DeprecationWarning: The binary mode of fromstring is deprecated, as it behaves surprisingly on unicode inputs. Use frombuffer instead\n",
      "  dtype=np.dtype(descr)).reshape(obj[b'shape'])\n",
      "C:\\ProgramData\\Anaconda3\\lib\\site-packages\\msgpack_numpy.py:88: DeprecationWarning: The binary mode of fromstring is deprecated, as it behaves surprisingly on unicode inputs. Use frombuffer instead\n",
      "  dtype=np.dtype(descr))[0]\n",
      "C:\\ProgramData\\Anaconda3\\lib\\site-packages\\msgpack_numpy.py:84: DeprecationWarning: The binary mode of fromstring is deprecated, as it behaves surprisingly on unicode inputs. Use frombuffer instead\n",
      "  dtype=np.dtype(descr)).reshape(obj[b'shape'])\n",
      "C:\\ProgramData\\Anaconda3\\lib\\site-packages\\msgpack_numpy.py:84: DeprecationWarning: The binary mode of fromstring is deprecated, as it behaves surprisingly on unicode inputs. Use frombuffer instead\n",
      "  dtype=np.dtype(descr)).reshape(obj[b'shape'])\n",
      "C:\\ProgramData\\Anaconda3\\lib\\site-packages\\msgpack_numpy.py:84: DeprecationWarning: The binary mode of fromstring is deprecated, as it behaves surprisingly on unicode inputs. Use frombuffer instead\n",
      "  dtype=np.dtype(descr)).reshape(obj[b'shape'])\n",
      "C:\\ProgramData\\Anaconda3\\lib\\site-packages\\msgpack_numpy.py:88: DeprecationWarning: The binary mode of fromstring is deprecated, as it behaves surprisingly on unicode inputs. Use frombuffer instead\n",
      "  dtype=np.dtype(descr))[0]\n",
      "C:\\ProgramData\\Anaconda3\\lib\\site-packages\\msgpack_numpy.py:84: DeprecationWarning: The binary mode of fromstring is deprecated, as it behaves surprisingly on unicode inputs. Use frombuffer instead\n",
      "  dtype=np.dtype(descr)).reshape(obj[b'shape'])\n",
      "C:\\ProgramData\\Anaconda3\\lib\\site-packages\\msgpack_numpy.py:84: DeprecationWarning: The binary mode of fromstring is deprecated, as it behaves surprisingly on unicode inputs. Use frombuffer instead\n",
      "  dtype=np.dtype(descr)).reshape(obj[b'shape'])\n",
      "C:\\ProgramData\\Anaconda3\\lib\\site-packages\\msgpack_numpy.py:88: DeprecationWarning: The binary mode of fromstring is deprecated, as it behaves surprisingly on unicode inputs. Use frombuffer instead\n",
      "  dtype=np.dtype(descr))[0]\n",
      "C:\\ProgramData\\Anaconda3\\lib\\site-packages\\msgpack_numpy.py:84: DeprecationWarning: The binary mode of fromstring is deprecated, as it behaves surprisingly on unicode inputs. Use frombuffer instead\n",
      "  dtype=np.dtype(descr)).reshape(obj[b'shape'])\n",
      "C:\\ProgramData\\Anaconda3\\lib\\site-packages\\msgpack_numpy.py:84: DeprecationWarning: The binary mode of fromstring is deprecated, as it behaves surprisingly on unicode inputs. Use frombuffer instead\n",
      "  dtype=np.dtype(descr)).reshape(obj[b'shape'])\n",
      "C:\\ProgramData\\Anaconda3\\lib\\site-packages\\msgpack_numpy.py:88: DeprecationWarning: The binary mode of fromstring is deprecated, as it behaves surprisingly on unicode inputs. Use frombuffer instead\n",
      "  dtype=np.dtype(descr))[0]\n",
      "C:\\ProgramData\\Anaconda3\\lib\\site-packages\\msgpack_numpy.py:84: DeprecationWarning: The binary mode of fromstring is deprecated, as it behaves surprisingly on unicode inputs. Use frombuffer instead\n",
      "  dtype=np.dtype(descr)).reshape(obj[b'shape'])\n",
      "C:\\ProgramData\\Anaconda3\\lib\\site-packages\\msgpack_numpy.py:84: DeprecationWarning: The binary mode of fromstring is deprecated, as it behaves surprisingly on unicode inputs. Use frombuffer instead\n",
      "  dtype=np.dtype(descr)).reshape(obj[b'shape'])\n",
      "C:\\ProgramData\\Anaconda3\\lib\\site-packages\\msgpack_numpy.py:88: DeprecationWarning: The binary mode of fromstring is deprecated, as it behaves surprisingly on unicode inputs. Use frombuffer instead\n",
      "  dtype=np.dtype(descr))[0]\n",
      "C:\\ProgramData\\Anaconda3\\lib\\site-packages\\msgpack_numpy.py:84: DeprecationWarning: The binary mode of fromstring is deprecated, as it behaves surprisingly on unicode inputs. Use frombuffer instead\n",
      "  dtype=np.dtype(descr)).reshape(obj[b'shape'])\n",
      "C:\\ProgramData\\Anaconda3\\lib\\site-packages\\msgpack_numpy.py:84: DeprecationWarning: The binary mode of fromstring is deprecated, as it behaves surprisingly on unicode inputs. Use frombuffer instead\n",
      "  dtype=np.dtype(descr)).reshape(obj[b'shape'])\n",
      "C:\\ProgramData\\Anaconda3\\lib\\site-packages\\msgpack_numpy.py:88: DeprecationWarning: The binary mode of fromstring is deprecated, as it behaves surprisingly on unicode inputs. Use frombuffer instead\n",
      "  dtype=np.dtype(descr))[0]\n",
      "C:\\ProgramData\\Anaconda3\\lib\\site-packages\\msgpack_numpy.py:84: DeprecationWarning: The binary mode of fromstring is deprecated, as it behaves surprisingly on unicode inputs. Use frombuffer instead\n",
      "  dtype=np.dtype(descr)).reshape(obj[b'shape'])\n",
      "C:\\ProgramData\\Anaconda3\\lib\\site-packages\\msgpack_numpy.py:84: DeprecationWarning: The binary mode of fromstring is deprecated, as it behaves surprisingly on unicode inputs. Use frombuffer instead\n",
      "  dtype=np.dtype(descr)).reshape(obj[b'shape'])\n"
     ]
    },
    {
     "name": "stderr",
     "output_type": "stream",
     "text": [
      "C:\\ProgramData\\Anaconda3\\lib\\site-packages\\msgpack_numpy.py:84: DeprecationWarning: The binary mode of fromstring is deprecated, as it behaves surprisingly on unicode inputs. Use frombuffer instead\n",
      "  dtype=np.dtype(descr)).reshape(obj[b'shape'])\n",
      "C:\\ProgramData\\Anaconda3\\lib\\site-packages\\msgpack_numpy.py:84: DeprecationWarning: The binary mode of fromstring is deprecated, as it behaves surprisingly on unicode inputs. Use frombuffer instead\n",
      "  dtype=np.dtype(descr)).reshape(obj[b'shape'])\n"
     ]
    }
   ],
   "source": [
    "data_words_nostops = remove_stopwords(data_words)\n",
    "data_words_bigrams = make_bigrams(data_words_nostops)\n",
    "nlp = spacy.load('en', disable=['parser', 'ner'])\n",
    "\n",
    "# Do lemmatization keeping only noun, adj, vb, adv\n",
    "data_lemmatized = lemmatization(data_words_bigrams, allowed_postags=['NOUN', 'ADJ', 'VERB', 'ADV'])\n",
    "\n",
    "#print(data_lemmatized[:4])\n"
   ]
  },
  {
   "cell_type": "code",
   "execution_count": 19,
   "metadata": {
    "ExecuteTime": {
     "end_time": "2018-07-18T00:35:06.918079Z",
     "start_time": "2018-07-18T00:35:06.306530Z"
    }
   },
   "outputs": [],
   "source": [
    "id2word = corpora.Dictionary(data_lemmatized)\n",
    "\n",
    "# Create Corpus\n",
    "texts = data_lemmatized\n",
    "\n",
    "# Term Document Frequency\n",
    "corpus = [id2word.doc2bow(text) for text in texts]\n"
   ]
  },
  {
   "cell_type": "markdown",
   "metadata": {},
   "source": [
    "# How many topics should we train? "
   ]
  },
  {
   "cell_type": "code",
   "execution_count": 20,
   "metadata": {
    "ExecuteTime": {
     "end_time": "2018-07-18T00:37:19.091326Z",
     "start_time": "2018-07-18T00:35:06.919097Z"
    }
   },
   "outputs": [],
   "source": [
    "def compute_coherence_values(dictionary, corpus, texts, limit, start=20, step=3):\n",
    "    \"\"\"\n",
    "    Compute c_v coherence for various number of topics\n",
    "\n",
    "    Parameters:\n",
    "    ----------\n",
    "    dictionary : Gensim dictionary\n",
    "    corpus : Gensim corpus\n",
    "    texts : List of input texts\n",
    "    limit : Max num of topics\n",
    "\n",
    "    Returns:\n",
    "    -------\n",
    "    model_list : List of LDA multiecore models\n",
    "    coherence_values : Coherence values corresponding to the LDA multicore model with respective number of topics\n",
    "    \"\"\"\n",
    "    coherence_values = []\n",
    "    model_list = []\n",
    "    for num_topics in range(start, limit, step):\n",
    "        model = gensim.models.ldamulticore.LdaMulticore(corpus=corpus, num_topics=num_topics, id2word=id2word)\n",
    "        model_list.append(model)\n",
    "        coherencemodel = CoherenceModel(model=model, texts=texts, dictionary=dictionary, coherence='c_v')\n",
    "        coherence_values.append(coherencemodel.get_coherence())\n",
    "\n",
    "    return model_list, coherence_values\n",
    "\n",
    "\n",
    "\"\"\"    \n",
    "    Warning: This WILL take a while \n",
    "\"\"\"\n",
    "model_list, coherence_values = compute_coherence_values(dictionary=id2word, corpus=corpus, texts=data_lemmatized, start=10, limit=40, step=3)\n"
   ]
  },
  {
   "cell_type": "code",
   "execution_count": 21,
   "metadata": {
    "ExecuteTime": {
     "end_time": "2018-07-18T00:37:19.288673Z",
     "start_time": "2018-07-18T00:37:19.093134Z"
    },
    "scrolled": true
   },
   "outputs": [
    {
     "data": {
      "image/png": "[encoded data removed]",
      "text/plain": [
       "<matplotlib.figure.Figure at 0x28a5c938b00>"
      ]
     },
     "metadata": {},
     "output_type": "display_data"
    },
    {
     "name": "stdout",
     "output_type": "stream",
     "text": [
      "Num Topics = 30  has Coherence Value of 0.3215\n",
      "Num Topics = 33  has Coherence Value of 0.3012\n",
      "Num Topics = 36  has Coherence Value of 0.3107\n",
      "Num Topics = 39  has Coherence Value of 0.2948\n",
      "Num Topics = 42  has Coherence Value of 0.3217\n"
     ]
    }
   ],
   "source": [
    "# Show graph\n",
    "start=10, limit=40, step=3;\n",
    "x = range(start, limit, step)\n",
    "plt.plot(x, coherence_values)\n",
    "plt.xlabel(\"Num Topics\")\n",
    "plt.ylabel(\"Coherence score\")\n",
    "plt.legend((\"coherence_values\"), loc='best')\n",
    "plt.show()\n",
    "\n",
    "# Print the coherence scores\n",
    "for m, cv in zip(x, coherence_values):\n",
    "    print(\"Num Topics =\", m, \" has Coherence Value of\", round(cv, 4))\n"
   ]
  },
  {
   "cell_type": "code",
   "execution_count": 22,
   "metadata": {
    "ExecuteTime": {
     "end_time": "2018-07-18T00:39:20.740674Z",
     "start_time": "2018-07-18T00:37:19.290641Z"
    }
   },
   "outputs": [],
   "source": [
    "############################################################\n",
    "# comparing LDA model coherence scores vs. LDA Multicore\n",
    "############################################################\n",
    "#  As expected (and unexplained) LDA Model performs better\n",
    "#  than the LDA multicore model with identical parameters \n",
    "############################################################\n",
    "\n",
    "\n",
    "def compute_coherence_values(dictionary, corpus, texts, limit, start=20, step=3):\n",
    "    \"\"\"\n",
    "    Compute c_v coherence for various number of topics\n",
    "\n",
    "    Parameters:\n",
    "    ----------\n",
    "    dictionary : Gensim dictionary\n",
    "    corpus : Gensim corpus\n",
    "    texts : List of input texts\n",
    "    limit : Max num of topics\n",
    "\n",
    "    Returns:\n",
    "    -------\n",
    "    model_list : List of LDA topic models\n",
    "    coherence_values : Coherence values corresponding to the LDA model with respective number of topics\n",
    "    \"\"\"\n",
    "    coherence_values = []\n",
    "    model_list = []\n",
    "    for num_topics in range(start, limit, step):\n",
    "        model = gensim.models.ldamodel.LdaModel(corpus=corpus, num_topics=num_topics, id2word=id2word)\n",
    "        model_list.append(model)\n",
    "        coherencemodel = CoherenceModel(model=model, texts=texts, dictionary=dictionary, coherence='c_v')\n",
    "        coherence_values.append(coherencemodel.get_coherence())\n",
    "\n",
    "    return model_list, coherence_values\n",
    "\n",
    "\"\"\"    \n",
    "    Warning: This WILL take a while \n",
    "\"\"\"\n",
    "model_list, coherence_values = compute_coherence_values(dictionary=id2word, corpus=corpus, texts=data_lemmatized, start=30, limit=45, step=3)\n",
    "\n"
   ]
  },
  {
   "cell_type": "code",
   "execution_count": 23,
   "metadata": {
    "ExecuteTime": {
     "end_time": "2018-07-18T00:39:20.904239Z",
     "start_time": "2018-07-18T00:39:20.742670Z"
    },
    "scrolled": true
   },
   "outputs": [
    {
     "data": {
      "image/png": "[encoded data removed]",
      "text/plain": [
       "<matplotlib.figure.Figure at 0x28a683d5d68>"
      ]
     },
     "metadata": {},
     "output_type": "display_data"
    },
    {
     "name": "stdout",
     "output_type": "stream",
     "text": [
      "Num Topics = 30  has Coherence Value of 0.3477\n",
      "Num Topics = 33  has Coherence Value of 0.3445\n",
      "Num Topics = 36  has Coherence Value of 0.352\n",
      "Num Topics = 39  has Coherence Value of 0.3418\n",
      "Num Topics = 42  has Coherence Value of 0.36\n"
     ]
    }
   ],
   "source": [
    "# print graph\n",
    "limit=45; start=30; step=3;\n",
    "x = range(start, limit, step)\n",
    "plt.plot(x, coherence_values)\n",
    "plt.xlabel(\"Num Topics\")\n",
    "plt.ylabel(\"Coherence score\")\n",
    "plt.legend((\"coherence_values\"), loc='best')\n",
    "plt.show()\n",
    "\n",
    "# Print coherence scores\n",
    "for m, cv in zip(x, coherence_values):\n",
    "    print(\"Num Topics =\", m, \" has Coherence Value of\", round(cv, 4))\n"
   ]
  },
  {
   "cell_type": "markdown",
   "metadata": {},
   "source": [
    "#          LDA Multicore results:   \n",
    "big_df  \n",
    ">  Num Topics = 30  has Coherence Value of 0.4437  \n",
    ">  Num Topics = 33  has Coherence Value of 0.4106  \n",
    ">  Num Topics = 36  has Coherence Value of 0.4513  \n",
    ">  Num Topics = 39  has Coherence Value of 0.4462  \n",
    ">  Num Topics = 42  has Coherence Value of 0.4425   \n",
    "\n",
    "bigger_df:   \n",
    "> Num Topics = 30  has Coherence Value of 0.4466  \n",
    "> Num Topics = 33  has Coherence Value of 0.4341  \n",
    "> Num Topics = 36  has Coherence Value of 0.4334  \n",
    "> Num Topics = 39  has Coherence Value of 0.4356  \n",
    "> Num Topics = 42  has Coherence Value of 0.4412  \n",
    "\n",
    "#            LDA Model results:   \n",
    "big_df  \n",
    "> Num Topics = 30  has Coherence Value of 0.5116  \n",
    "> Num Topics = 33  has Coherence Value of 0.5101  \n",
    "> Num Topics = 36  has Coherence Value of 0.5146  \n",
    "> Num Topics = 39  has Coherence Value of 0.4696  \n",
    ">  Num Topics = 42  has Coherence Value of 0.4832  \n",
    " \n",
    "bigger_df:  \n",
    "> Num Topics = 30  has Coherence Value of 0.5535  \n",
    "> Num Topics = 33  has Coherence Value of 0.4843  \n",
    "> Num Topics = 36  has Coherence Value of 0.4783  \n",
    "> Num Topics = 39  has Coherence Value of 0.4902  \n",
    "> Num Topics = 42  has Coherence Value of 0.4779  \n",
    "      \n",
    "  As expected (and unexplained) LDA Model performs better   \n",
    "  than the LDA multicore model with identical parameters   \n",
    "\n"
   ]
  },
  {
   "cell_type": "markdown",
   "metadata": {},
   "source": [
    "# Attempting high score: Topics: 30, chunks: 50k, passes=20\n",
    "\n",
    "> New Best Model? Yes  \n",
    "> Runtime: 1 hour (3439 seconds)   \n",
    "> Perplexity: -8.6129  \n",
    "> Coherence Score: 0.6238   \n",
    "\n",
    "added 'new' as stopword, coherence dropped to 0.603. Decision reversed.\n"
   ]
  },
  {
   "cell_type": "code",
   "execution_count": 24,
   "metadata": {
    "ExecuteTime": {
     "end_time": "2018-07-18T00:39:20.934157Z",
     "start_time": "2018-07-18T00:39:20.906268Z"
    }
   },
   "outputs": [],
   "source": [
    "def run_model(topics=30, chunksize=50000, passes=50):\n",
    "    lda_model = gensim.models.ldamodel.LdaModel(corpus=corpus,\n",
    "                                               id2word=id2word,\n",
    "                                               num_topics=topics, \n",
    "                                               random_state=100,\n",
    "                                               chunksize=chunksize,    # chunksize = number of docs to be used in each training chunk\n",
    "                                               passes=passes,\n",
    "                                               per_word_topics=True)\n",
    "\n",
    "    # Compute Perplexity\n",
    "    print('\\nPerplexity: ', lda_model.log_perplexity(corpus))  # a measure of how good the model is. lower the better.\n",
    "\n",
    "    # Compute Coherence Score\n",
    "    coherence_model_lda = CoherenceModel(model=lda_model, texts=data_lemmatized, dictionary=id2word, coherence='c_v')\n",
    "    coherence_lda = coherence_model_lda.get_coherence()\n",
    "    print('\\nCoherence Score: ', coherence_lda)\n",
    "\n",
    "    vis = pyLDAvis.gensim.prepare(lda_model, corpus, id2word)\n",
    "    pyLDAvis.save_html(vis,'vis_' + str(topics) + '.html')\n",
    "    vis\n",
    "    return;\n",
    "\n"
   ]
  },
  {
   "cell_type": "code",
   "execution_count": 25,
   "metadata": {
    "ExecuteTime": {
     "end_time": "2018-07-18T00:39:20.946127Z",
     "start_time": "2018-07-18T00:39:20.936153Z"
    }
   },
   "outputs": [],
   "source": [
    "#run_model(topics=30, chunksize=50000, passes=20)"
   ]
  },
  {
   "cell_type": "markdown",
   "metadata": {},
   "source": [
    "# Attempting new high score: Topics: 30, chunks: 50k, passes=50\n",
    "\n",
    "> New Best Model? Yes. Marginal improvement in Coherence Score (0.0034) by increasing from 20 to 50 passes.  \n",
    "> Runtime: unclocked.   \n",
    "> Perplexity: -8.609     \n",
    "> Coherence Score: 0.6272     \n",
    "\n",
    "added stopword 'new' and coherence decreased to 0.6078. Decision reversed."
   ]
  },
  {
   "cell_type": "code",
   "execution_count": 26,
   "metadata": {
    "ExecuteTime": {
     "end_time": "2018-07-18T00:43:07.068680Z",
     "start_time": "2018-07-18T00:39:20.949119Z"
    }
   },
   "outputs": [
    {
     "name": "stdout",
     "output_type": "stream",
     "text": [
      "\n",
      "Perplexity:  -8.387340269308291\n",
      "\n",
      "Coherence Score:  0.38945617304485775\n"
     ]
    },
    {
     "name": "stderr",
     "output_type": "stream",
     "text": [
      "C:\\ProgramData\\Anaconda3\\lib\\site-packages\\numexpr\\cpuinfo.py:109: DeprecationWarning: invalid escape sequence \\d\n",
      "  nbits = re.compile('(\\d+)bit').search(abits).group(1)\n",
      "C:\\ProgramData\\Anaconda3\\lib\\site-packages\\numexpr\\cpuinfo.py:662: DeprecationWarning: invalid escape sequence \\s\n",
      "  \"\\s+stepping\\s+(?P<STP>\\d+)\", re.IGNORECASE)\n"
     ]
    }
   ],
   "source": [
    "run_model(topics=30, chunksize=50000, passes=50)"
   ]
  },
  {
   "cell_type": "code",
   "execution_count": null,
   "metadata": {
    "ExecuteTime": {
     "end_time": "2018-07-15T01:25:14.115080Z",
     "start_time": "2018-07-15T01:19:12.366511Z"
    }
   },
   "outputs": [],
   "source": []
  },
  {
   "cell_type": "markdown",
   "metadata": {},
   "source": [
    "# trying same best model, separate random state (100 -> 200)\n",
    "Before:  \n",
    "> Runtime: 3hrs 25 minutes (12,209 seconds).   \n",
    "> Perplexity: -8.609     \n",
    "> Coherence Score: 0.6272    \n",
    " \n",
    "After (random state changed to 200):  \n",
    "> Runtime: 2hrs 15min (8,111 seconds)  \n",
    "> Perplexity: -8.603    \n",
    "> Coherence Score: 0.611      \n",
    "\n",
    "Results: Similar score, no improvement."
   ]
  },
  {
   "cell_type": "code",
   "execution_count": null,
   "metadata": {
    "ExecuteTime": {
     "end_time": "2018-07-15T03:38:08.515765Z",
     "start_time": "2018-07-15T01:25:14.121064Z"
    }
   },
   "outputs": [],
   "source": []
  },
  {
   "cell_type": "code",
   "execution_count": null,
   "metadata": {
    "ExecuteTime": {
     "end_time": "2018-07-15T03:43:12.459995Z",
     "start_time": "2018-07-15T03:38:08.520788Z"
    }
   },
   "outputs": [],
   "source": []
  },
  {
   "cell_type": "code",
   "execution_count": null,
   "metadata": {
    "ExecuteTime": {
     "end_time": "2018-07-15T03:43:12.471964Z",
     "start_time": "2018-07-15T03:43:12.464982Z"
    }
   },
   "outputs": [],
   "source": []
  },
  {
   "cell_type": "code",
   "execution_count": null,
   "metadata": {},
   "outputs": [],
   "source": []
  },
  {
   "cell_type": "code",
   "execution_count": null,
   "metadata": {
    "ExecuteTime": {
     "end_time": "2018-07-15T03:43:12.494903Z",
     "start_time": "2018-07-15T03:43:12.474958Z"
    }
   },
   "outputs": [],
   "source": []
  },
  {
   "cell_type": "code",
   "execution_count": 27,
   "metadata": {
    "ExecuteTime": {
     "end_time": "2018-07-18T00:47:05.842606Z",
     "start_time": "2018-07-18T00:43:07.070445Z"
    }
   },
   "outputs": [
    {
     "data": {
      "image/png": "[encoded data removed]",
      "text/plain": [
       "<matplotlib.figure.Figure at 0x28a586175f8>"
      ]
     },
     "metadata": {},
     "output_type": "display_data"
    },
    {
     "name": "stdout",
     "output_type": "stream",
     "text": [
      "Num Topics = 25  has Coherence Value of 0.3566\n",
      "Num Topics = 27  has Coherence Value of 0.3343\n",
      "Num Topics = 29  has Coherence Value of 0.3488\n",
      "Num Topics = 31  has Coherence Value of 0.3404\n",
      "Num Topics = 33  has Coherence Value of 0.3289\n",
      "Num Topics = 35  has Coherence Value of 0.3449\n",
      "Num Topics = 37  has Coherence Value of 0.3609\n",
      "Num Topics = 39  has Coherence Value of 0.3609\n",
      "Num Topics = 41  has Coherence Value of 0.3388\n",
      "Num Topics = 43  has Coherence Value of 0.3601\n"
     ]
    }
   ],
   "source": [
    "\n",
    "model_list, coherence_values = compute_coherence_values(dictionary=id2word, corpus=corpus, texts=data_lemmatized, start=25, limit=45, step=2)\n",
    "\n",
    "start=25; limit=45; step=2;\n",
    "x = range(start, limit, step)\n",
    "plt.plot(x, coherence_values)\n",
    "plt.xlabel(\"Num Topics\")\n",
    "plt.ylabel(\"Coherence score\")\n",
    "plt.legend((\"coherence_values\"), loc='best')\n",
    "plt.show()\n",
    "\n",
    "# Print coherence scores\n",
    "for m, cv in zip(x, coherence_values):\n",
    "    print(\"Num Topics =\", m, \" has Coherence Value of\", round(cv, 4))\n"
   ]
  },
  {
   "cell_type": "code",
   "execution_count": null,
   "metadata": {
    "ExecuteTime": {
     "end_time": "2018-07-15T10:05:16.169671Z",
     "start_time": "2018-07-15T08:03:49.399168Z"
    }
   },
   "outputs": [],
   "source": []
  },
  {
   "cell_type": "code",
   "execution_count": null,
   "metadata": {
    "ExecuteTime": {
     "end_time": "2018-07-15T10:10:31.825047Z",
     "start_time": "2018-07-15T10:05:16.172661Z"
    }
   },
   "outputs": [],
   "source": []
  },
  {
   "cell_type": "code",
   "execution_count": null,
   "metadata": {
    "ExecuteTime": {
     "end_time": "2018-07-15T12:02:37.144707Z",
     "start_time": "2018-07-15T10:10:31.830051Z"
    }
   },
   "outputs": [],
   "source": []
  },
  {
   "cell_type": "code",
   "execution_count": null,
   "metadata": {
    "ExecuteTime": {
     "end_time": "2018-07-15T12:07:20.102213Z",
     "start_time": "2018-07-15T12:02:37.147699Z"
    }
   },
   "outputs": [],
   "source": []
  },
  {
   "cell_type": "code",
   "execution_count": null,
   "metadata": {
    "ExecuteTime": {
     "end_time": "2018-07-15T16:22:31.806419Z",
     "start_time": "2018-07-15T16:22:29.980427Z"
    }
   },
   "outputs": [],
   "source": []
  },
  {
   "cell_type": "code",
   "execution_count": null,
   "metadata": {},
   "outputs": [],
   "source": []
  },
  {
   "cell_type": "code",
   "execution_count": null,
   "metadata": {
    "ExecuteTime": {
     "end_time": "2018-07-15T16:23:10.918200Z",
     "start_time": "2018-07-15T16:23:10.873282Z"
    }
   },
   "outputs": [],
   "source": []
  },
  {
   "cell_type": "code",
   "execution_count": null,
   "metadata": {
    "ExecuteTime": {
     "end_time": "2018-07-15T23:59:24.679660Z",
     "start_time": "2018-07-15T20:59:08.513368Z"
    }
   },
   "outputs": [],
   "source": []
  },
  {
   "cell_type": "code",
   "execution_count": null,
   "metadata": {
    "ExecuteTime": {
     "end_time": "2018-07-16T02:23:13.353388Z",
     "start_time": "2018-07-16T02:18:10.545214Z"
    }
   },
   "outputs": [],
   "source": []
  },
  {
   "cell_type": "code",
   "execution_count": null,
   "metadata": {
    "ExecuteTime": {
     "end_time": "2018-07-16T05:21:19.763082Z",
     "start_time": "2018-07-16T03:12:12.176943Z"
    }
   },
   "outputs": [],
   "source": []
  },
  {
   "cell_type": "code",
   "execution_count": 28,
   "metadata": {
    "ExecuteTime": {
     "end_time": "2018-07-18T00:50:42.349797Z",
     "start_time": "2018-07-18T00:47:05.844600Z"
    }
   },
   "outputs": [
    {
     "name": "stdout",
     "output_type": "stream",
     "text": [
      "\n",
      "Perplexity:  -8.420061329381728\n",
      "\n",
      "Coherence Score:  0.3729165035921527\n"
     ]
    }
   ],
   "source": [
    "run_model(topics=20, chunksize=40000, passes=50)"
   ]
  },
  {
   "cell_type": "code",
   "execution_count": 29,
   "metadata": {
    "ExecuteTime": {
     "end_time": "2018-07-18T00:54:08.282420Z",
     "start_time": "2018-07-18T00:50:42.351756Z"
    }
   },
   "outputs": [
    {
     "name": "stdout",
     "output_type": "stream",
     "text": [
      "\n",
      "Perplexity:  -8.388969370828756\n",
      "\n",
      "Coherence Score:  0.3877283966864842\n"
     ]
    }
   ],
   "source": [
    "run_model(topics=23, chunksize=40000, passes=50)"
   ]
  },
  {
   "cell_type": "code",
   "execution_count": 30,
   "metadata": {
    "ExecuteTime": {
     "end_time": "2018-07-18T00:57:39.371233Z",
     "start_time": "2018-07-18T00:54:08.284268Z"
    }
   },
   "outputs": [
    {
     "name": "stdout",
     "output_type": "stream",
     "text": [
      "\n",
      "Perplexity:  -8.3784348989762\n",
      "\n",
      "Coherence Score:  0.3608900227291966\n"
     ]
    }
   ],
   "source": [
    "run_model(topics=25, chunksize=50000, passes=50)"
   ]
  },
  {
   "cell_type": "code",
   "execution_count": 31,
   "metadata": {
    "ExecuteTime": {
     "end_time": "2018-07-18T01:01:38.028989Z",
     "start_time": "2018-07-18T00:57:39.373231Z"
    }
   },
   "outputs": [
    {
     "name": "stdout",
     "output_type": "stream",
     "text": [
      "\n",
      "Perplexity:  -8.397491409919756\n",
      "\n",
      "Coherence Score:  0.36483492649445015\n"
     ]
    }
   ],
   "source": [
    "run_model(topics=28, chunksize=50000, passes=50)"
   ]
  },
  {
   "cell_type": "code",
   "execution_count": 32,
   "metadata": {
    "ExecuteTime": {
     "end_time": "2018-07-18T01:05:18.887626Z",
     "start_time": "2018-07-18T01:01:38.030984Z"
    }
   },
   "outputs": [
    {
     "name": "stdout",
     "output_type": "stream",
     "text": [
      "\n",
      "Perplexity:  -8.39829400567557\n",
      "\n",
      "Coherence Score:  0.35956719340759025\n"
     ]
    }
   ],
   "source": [
    "run_model(topics=32, chunksize=50000, passes=50)"
   ]
  },
  {
   "cell_type": "code",
   "execution_count": 33,
   "metadata": {
    "ExecuteTime": {
     "end_time": "2018-07-18T01:05:18.895570Z",
     "start_time": "2018-07-18T01:05:18.889619Z"
    }
   },
   "outputs": [
    {
     "ename": "SyntaxError",
     "evalue": "invalid syntax (<ipython-input-33-666a795e3d91>, line 1)",
     "output_type": "error",
     "traceback": [
      "\u001b[1;36m  File \u001b[1;32m\"<ipython-input-33-666a795e3d91>\"\u001b[1;36m, line \u001b[1;32m1\u001b[0m\n\u001b[1;33m    run_model(topics=35 chunksize=50000, passes=50)\u001b[0m\n\u001b[1;37m                                ^\u001b[0m\n\u001b[1;31mSyntaxError\u001b[0m\u001b[1;31m:\u001b[0m invalid syntax\n"
     ]
    }
   ],
   "source": [
    "run_model(topics=35 chunksize=50000, passes=50)"
   ]
  },
  {
   "cell_type": "code",
   "execution_count": null,
   "metadata": {
    "ExecuteTime": {
     "end_time": "2018-07-18T01:05:18.896570Z",
     "start_time": "2018-07-18T00:34:17.380Z"
    }
   },
   "outputs": [],
   "source": [
    "run_model(topics=37, chunksize=40000, passes=50)"
   ]
  }
 ],
 "metadata": {
  "kernelspec": {
   "display_name": "Python 3",
   "language": "python",
   "name": "python3"
  },
  "language_info": {
   "codemirror_mode": {
    "name": "ipython",
    "version": 3
   },
   "file_extension": ".py",
   "mimetype": "text/x-python",
   "name": "python",
   "nbconvert_exporter": "python",
   "pygments_lexer": "ipython3",
   "version": "3.6.5"
  }
 },
 "nbformat": 4,
 "nbformat_minor": 2
}
