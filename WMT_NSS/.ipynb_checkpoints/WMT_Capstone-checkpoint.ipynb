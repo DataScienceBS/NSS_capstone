{
 "cells": [
  {
   "cell_type": "code",
   "execution_count": 1,
   "metadata": {},
   "outputs": [],
   "source": [
    "import pandas as pd\n",
    "import csv\n",
    "import re\n",
    "import warnings\n",
    "warnings.filterwarnings('ignore')"
   ]
  },
  {
   "cell_type": "code",
   "execution_count": 2,
   "metadata": {},
   "outputs": [],
   "source": [
    "df = pd.read_csv('private/R_df_to_csv.csv', delimiter='|', encoding='latin-1')"
   ]
  },
  {
   "cell_type": "code",
   "execution_count": 3,
   "metadata": {},
   "outputs": [],
   "source": [
    "#### stripping HTML tags ####\n",
    "p = '<.*?>'\n",
    "for col in df.columns:\n",
    "    df[col] = df[col].replace(p, '', regex=True)"
   ]
  },
  {
   "cell_type": "code",
   "execution_count": 4,
   "metadata": {},
   "outputs": [
    {
     "data": {
      "text/plain": [
       "model           202176\n",
       "parentItemId      3108\n",
       "itemId            2673\n",
       "shortDn            185\n",
       "main_cat             0\n",
       "sub_cat              0\n",
       "catNode              0\n",
       "longDn               0\n",
       "categoryPath         0\n",
       "name                 0\n",
       "dtype: int64"
      ]
     },
     "execution_count": 4,
     "metadata": {},
     "output_type": "execute_result"
    }
   ],
   "source": [
    "# splitting categories into main and sub, dropping non-Book main categories #\n",
    "regex = r\"\\/(.*?)\\/.*\"\n",
    "\n",
    "df['sub_cat'] = df['categoryPath'].str.extract(regex) # sub categories, one level below Books.\n",
    "df['main_cat'] = df['categoryPath'].astype(str).str[:5] \n",
    "df = df[df.main_cat == 'Books'] #dropping non-Book categories\n",
    "\n",
    "# drop rows missing critical data #\n",
    "df = df.dropna(axis=0, how='any', subset=['longDn', 'sub_cat','name'])\n",
    "df.isnull().sum().sort_values(ascending=False)"
   ]
  },
  {
   "cell_type": "code",
   "execution_count": 5,
   "metadata": {},
   "outputs": [
    {
     "name": "stdout",
     "output_type": "stream",
     "text": [
      "There are 74 categories of books.\n",
      "56 categories have more than 100 books.\n"
     ]
    }
   ],
   "source": [
    "print(\"There are \" + str(len(df.sub_cat.value_counts())) + \" categories of books.\")\n",
    "counts = df['sub_cat'].value_counts()\n",
    "threshold = 100\n",
    "print(str(len(counts[counts>threshold])) + \" categories have more than \" + str(threshold) +\" books.\")"
   ]
  },
  {
   "cell_type": "code",
   "execution_count": 18,
   "metadata": {},
   "outputs": [
    {
     "data": {
      "text/plain": [
       "Dieting & Fitness Books        1345\n",
       "Libros en Espanol              1342\n",
       "Business & Money Books         1277\n",
       "Law                             983\n",
       "Nonfiction                      745\n",
       "Biographies & Memoirs           678\n",
       "History                         457\n",
       "Language Arts & Disciplines     449\n",
       "Father's Day Books              346\n",
       "Computers & Technology          307\n",
       "Name: sub_cat, dtype: int64"
      ]
     },
     "execution_count": 18,
     "metadata": {},
     "output_type": "execute_result"
    }
   ],
   "source": [
    "df.sub_cat.value_counts().iloc[30:40]"
   ]
  },
  {
   "cell_type": "code",
   "execution_count": 11,
   "metadata": {},
   "outputs": [],
   "source": [
    "R_data_for_LDA = df\n",
    "R_data_for_LDA.to_csv('private/R_data_for_LDA.csv', sep='|')"
   ]
  },
  {
   "cell_type": "code",
   "execution_count": 177,
   "metadata": {},
   "outputs": [
    {
     "data": {
      "text/html": [
       "<div>\n",
       "<style scoped>\n",
       "    .dataframe tbody tr th:only-of-type {\n",
       "        vertical-align: middle;\n",
       "    }\n",
       "\n",
       "    .dataframe tbody tr th {\n",
       "        vertical-align: top;\n",
       "    }\n",
       "\n",
       "    .dataframe thead th {\n",
       "        text-align: right;\n",
       "    }\n",
       "</style>\n",
       "<table border=\"1\" class=\"dataframe\">\n",
       "  <thead>\n",
       "    <tr style=\"text-align: right;\">\n",
       "      <th></th>\n",
       "      <th>name</th>\n",
       "      <th>categoryPath</th>\n",
       "      <th>shortDn</th>\n",
       "      <th>longDn</th>\n",
       "      <th>model</th>\n",
       "      <th>catNode</th>\n",
       "      <th>itemId</th>\n",
       "      <th>parentItemId</th>\n",
       "      <th>sub_cat</th>\n",
       "      <th>main_cat</th>\n",
       "    </tr>\n",
       "  </thead>\n",
       "  <tbody>\n",
       "    <tr>\n",
       "      <th>1</th>\n",
       "      <td>Garth Brooks Anthology: The First Five Years (...</td>\n",
       "      <td>Books/Arts &amp; Entertainment Books/Music Books/M...</td>\n",
       "      <td>The first five years were filled with high adv...</td>\n",
       "      <td>Garth Brooks The Anthology</td>\n",
       "      <td>NaN</td>\n",
       "      <td>3920_582321_1318217</td>\n",
       "      <td>56155941.0</td>\n",
       "      <td>56155941.0</td>\n",
       "      <td>Arts &amp; Entertainment Books</td>\n",
       "      <td>Books</td>\n",
       "    </tr>\n",
       "    <tr>\n",
       "      <th>2</th>\n",
       "      <td>Special Edition Harry Potter Paperback Box Set</td>\n",
       "      <td>Books/Children's &amp; Kids' Books/Science Fiction...</td>\n",
       "      <td>The perfect gift for collectors and new reader...</td>\n",
       "      <td>The perfect gift for collectors and new reader...</td>\n",
       "      <td>9780545596275</td>\n",
       "      <td>3920_582053_586182</td>\n",
       "      <td>23466151.0</td>\n",
       "      <td>23466151.0</td>\n",
       "      <td>Children's &amp; Kids' Books</td>\n",
       "      <td>Books</td>\n",
       "    </tr>\n",
       "    <tr>\n",
       "      <th>3</th>\n",
       "      <td>StrengthsFinder 2.0</td>\n",
       "      <td>Books/Business &amp; Money Books/Development/General</td>\n",
       "      <td>An updated version of the StrengthsFinder prog...</td>\n",
       "      <td>StrengthsFinder 2.0 features the NEW and UPGRA...</td>\n",
       "      <td>NaN</td>\n",
       "      <td>3920_582349_7428141</td>\n",
       "      <td>5512335.0</td>\n",
       "      <td>5512335.0</td>\n",
       "      <td>Business &amp; Money Books</td>\n",
       "      <td>Books</td>\n",
       "    </tr>\n",
       "    <tr>\n",
       "      <th>4</th>\n",
       "      <td>Magnolia Table : A Collection of Recipes for G...</td>\n",
       "      <td>Books/Cookbooks, Food &amp; Wine/Cookbooks for Ent...</td>\n",
       "      <td>Details Coming Soon</td>\n",
       "      <td>Magnolia Table</td>\n",
       "      <td>NaN</td>\n",
       "      <td>3920_3036003_6652905</td>\n",
       "      <td>290970922.0</td>\n",
       "      <td>290970922.0</td>\n",
       "      <td>Cookbooks, Food &amp; Wine</td>\n",
       "      <td>Books</td>\n",
       "    </tr>\n",
       "    <tr>\n",
       "      <th>5</th>\n",
       "      <td>Oh, the Places You'll Go!</td>\n",
       "      <td>Books/Children's &amp; Kids' Books/Humor Children'...</td>\n",
       "      <td>Illustrated in full color, Dr. Seuss's 'The Pl...</td>\n",
       "      <td>Dr. Seussâs wonderfully wise Oh, the Places ...</td>\n",
       "      <td>NaN</td>\n",
       "      <td>3920_582053_582573</td>\n",
       "      <td>378996.0</td>\n",
       "      <td>378996.0</td>\n",
       "      <td>Children's &amp; Kids' Books</td>\n",
       "      <td>Books</td>\n",
       "    </tr>\n",
       "  </tbody>\n",
       "</table>\n",
       "</div>"
      ],
      "text/plain": [
       "                                                name  \\\n",
       "1  Garth Brooks Anthology: The First Five Years (...   \n",
       "2     Special Edition Harry Potter Paperback Box Set   \n",
       "3                                StrengthsFinder 2.0   \n",
       "4  Magnolia Table : A Collection of Recipes for G...   \n",
       "5                          Oh, the Places You'll Go!   \n",
       "\n",
       "                                        categoryPath  \\\n",
       "1  Books/Arts & Entertainment Books/Music Books/M...   \n",
       "2  Books/Children's & Kids' Books/Science Fiction...   \n",
       "3   Books/Business & Money Books/Development/General   \n",
       "4  Books/Cookbooks, Food & Wine/Cookbooks for Ent...   \n",
       "5  Books/Children's & Kids' Books/Humor Children'...   \n",
       "\n",
       "                                             shortDn  \\\n",
       "1  The first five years were filled with high adv...   \n",
       "2  The perfect gift for collectors and new reader...   \n",
       "3  An updated version of the StrengthsFinder prog...   \n",
       "4                                Details Coming Soon   \n",
       "5  Illustrated in full color, Dr. Seuss's 'The Pl...   \n",
       "\n",
       "                                              longDn          model  \\\n",
       "1                         Garth Brooks The Anthology            NaN   \n",
       "2  The perfect gift for collectors and new reader...  9780545596275   \n",
       "3  StrengthsFinder 2.0 features the NEW and UPGRA...            NaN   \n",
       "4                                     Magnolia Table            NaN   \n",
       "5  Dr. Seussâs wonderfully wise Oh, the Places ...            NaN   \n",
       "\n",
       "                catNode       itemId  parentItemId  \\\n",
       "1   3920_582321_1318217   56155941.0    56155941.0   \n",
       "2    3920_582053_586182   23466151.0    23466151.0   \n",
       "3   3920_582349_7428141    5512335.0     5512335.0   \n",
       "4  3920_3036003_6652905  290970922.0   290970922.0   \n",
       "5    3920_582053_582573     378996.0      378996.0   \n",
       "\n",
       "                      sub_cat main_cat  \n",
       "1  Arts & Entertainment Books    Books  \n",
       "2    Children's & Kids' Books    Books  \n",
       "3      Business & Money Books    Books  \n",
       "4      Cookbooks, Food & Wine    Books  \n",
       "5    Children's & Kids' Books    Books  "
      ]
     },
     "execution_count": 177,
     "metadata": {},
     "output_type": "execute_result"
    }
   ],
   "source": [
    "df.head()"
   ]
  },
  {
   "cell_type": "code",
   "execution_count": null,
   "metadata": {},
   "outputs": [],
   "source": []
  },
  {
   "cell_type": "code",
   "execution_count": null,
   "metadata": {},
   "outputs": [],
   "source": []
  },
  {
   "cell_type": "code",
   "execution_count": null,
   "metadata": {},
   "outputs": [],
   "source": []
  },
  {
   "cell_type": "code",
   "execution_count": 119,
   "metadata": {},
   "outputs": [],
   "source": []
  },
  {
   "cell_type": "code",
   "execution_count": null,
   "metadata": {},
   "outputs": [],
   "source": []
  },
  {
   "cell_type": "code",
   "execution_count": null,
   "metadata": {},
   "outputs": [],
   "source": []
  }
 ],
 "metadata": {
  "kernelspec": {
   "display_name": "Python 3",
   "language": "python",
   "name": "python3"
  },
  "language_info": {
   "codemirror_mode": {
    "name": "ipython",
    "version": 3
   },
   "file_extension": ".py",
   "mimetype": "text/x-python",
   "name": "python",
   "nbconvert_exporter": "python",
   "pygments_lexer": "ipython3",
   "version": "3.6.5"
  }
 },
 "nbformat": 4,
 "nbformat_minor": 2
}
