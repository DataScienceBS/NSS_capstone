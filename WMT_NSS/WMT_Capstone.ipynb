{
 "cells": [
  {
   "cell_type": "code",
   "execution_count": 159,
   "metadata": {},
   "outputs": [],
   "source": [
    "import pandas as pd\n",
    "import csv\n",
    "import re\n",
    "import warnings\n",
    "warnings.filterwarnings('ignore')"
   ]
  },
  {
   "cell_type": "code",
   "execution_count": 160,
   "metadata": {},
   "outputs": [],
   "source": [
    "df = pd.read_csv('private/R_df_to_csv.csv', delimiter='|', encoding='latin-1')"
   ]
  },
  {
   "cell_type": "code",
   "execution_count": 161,
   "metadata": {},
   "outputs": [],
   "source": [
    "#### stripping HTML tags ####\n",
    "p = '<.*?>'\n",
    "for col in df.columns:\n",
    "    df[col] = df[col].replace(p, '', regex=True)"
   ]
  },
  {
   "cell_type": "code",
   "execution_count": 162,
   "metadata": {},
   "outputs": [],
   "source": [
    "# splitting categories into main and sub, dropping non-Book main categories #\n",
    "regex = r\"\\/(.*?)\\/.*\"\n",
    "\n",
    "df['sub_cat'] = df['categoryPath'].str.extract(regex) # sub categories, one level below Books.\n",
    "df['main_cat'] = df['categoryPath'].astype(str).str[:5] \n",
    "df = df[df.main_cat == 'Books'] #dropping non-Book categories\n",
    "\n",
    "# drop rows missing critical data #\n",
    "df = df.dropna(axis=0, how='any', subset=['longDn', 'sub_cat','name'])\n",
    "df.isnull().sum().sort_values(ascending=False)"
   ]
  },
  {
   "cell_type": "code",
   "execution_count": 163,
   "metadata": {},
   "outputs": [
    {
     "name": "stdout",
     "output_type": "stream",
     "text": [
      "There are 74 categories of books.\n",
      "56 categories have more than 100 books.\n"
     ]
    }
   ],
   "source": [
    "print(\"There are \" + str(len(df.sub_cat.value_counts())) + \" categories of books.\")\n",
    "counts = df['sub_cat'].value_counts()\n",
    "threshold = 100\n",
    "print(str(len(counts[counts>threshold])) + \" categories have more than \" + str(threshold) +\" books.\")"
   ]
  },
  {
   "cell_type": "code",
   "execution_count": 170,
   "metadata": {},
   "outputs": [
    {
     "data": {
      "text/plain": [
       "Children's & Kids' Books                    19800\n",
       "Medical Books                               19218\n",
       "Education Books                             14001\n",
       "History Books                               13231\n",
       "Sports & Outdoor Books                      10042\n",
       "Law Books                                    9601\n",
       "Computers & Technology Books                 9312\n",
       "Political Books                              9140\n",
       "Self-Help Books                              6977\n",
       "Crafts & Hobbies Books                       6465\n",
       "Mathematics Books                            6303\n",
       "Philosophy Books                             6090\n",
       "Health & Wellness Books                      5955\n",
       "Travel Books                                 5797\n",
       "Language Arts & Disciplines Books            5749\n",
       "Reference Books                              5648\n",
       "Foreign Language Study & Reference Books     5547\n",
       "Teen & Young Adult Books                     5362\n",
       "Cookbooks, Food & Wine                       5024\n",
       "Study Aids & Test Prep Books                 3839\n",
       "Humor Books                                  3485\n",
       "Comic Books & Graphic Novels                 3200\n",
       "Literature & Fiction Books                   3092\n",
       "Arts & Entertainment Books                   2435\n",
       "Religion & Spirituality Books                2375\n",
       "Psychology & Social Science Books            2134\n",
       "Science & Nature Books                       1858\n",
       "True Crime Books                             1379\n",
       "House, Home & Gardening Books                1361\n",
       "Engineering & Transportation Books           1350\n",
       "                                            ...  \n",
       "Health & Wellness                             214\n",
       "Maps & Travel                                 187\n",
       "Literature & Fiction                          183\n",
       "Textbooks                                     170\n",
       "Mathematics                                   149\n",
       "Walmart Books Best Sellers                    147\n",
       "Maps & Travel Books                           147\n",
       "Business & Money                              131\n",
       "Philosophy                                    116\n",
       "Engineering & Transportation                  113\n",
       "Women's History Month Books                   112\n",
       "Psychology & Social Science                   110\n",
       "Arts & Entertainment                           78\n",
       "Parenting & Family Books                       56\n",
       "Humor                                          41\n",
       "Back to School Books                           32\n",
       "Crafts & Hobbies                               27\n",
       "House, Home & Gardening                        27\n",
       "Summer Reading Books                           24\n",
       "Religion & Spirituality                        20\n",
       "Teen & Young Adult                             17\n",
       "Education & Study Aids                          7\n",
       "ARCHIVE                                         6\n",
       "Medical                                         3\n",
       "Cooking, Food & Wine                            2\n",
       "Home, Hobbies & Garden                          2\n",
       "Health, Mind & Body                             2\n",
       "Religion                                        2\n",
       "Parenting & Families                            1\n",
       "Science & Nature                                1\n",
       "Name: sub_cat, Length: 74, dtype: int64"
      ]
     },
     "execution_count": 170,
     "metadata": {},
     "output_type": "execute_result"
    }
   ],
   "source": [
    "df.sub_cat.value_counts()"
   ]
  },
  {
   "cell_type": "markdown",
   "metadata": {},
   "source": [
    "### must remove non-null rows: longDn, sub_cat"
   ]
  },
  {
   "cell_type": "code",
   "execution_count": 177,
   "metadata": {},
   "outputs": [
    {
     "data": {
      "text/html": [
       "<div>\n",
       "<style scoped>\n",
       "    .dataframe tbody tr th:only-of-type {\n",
       "        vertical-align: middle;\n",
       "    }\n",
       "\n",
       "    .dataframe tbody tr th {\n",
       "        vertical-align: top;\n",
       "    }\n",
       "\n",
       "    .dataframe thead th {\n",
       "        text-align: right;\n",
       "    }\n",
       "</style>\n",
       "<table border=\"1\" class=\"dataframe\">\n",
       "  <thead>\n",
       "    <tr style=\"text-align: right;\">\n",
       "      <th></th>\n",
       "      <th>name</th>\n",
       "      <th>categoryPath</th>\n",
       "      <th>shortDn</th>\n",
       "      <th>longDn</th>\n",
       "      <th>model</th>\n",
       "      <th>catNode</th>\n",
       "      <th>itemId</th>\n",
       "      <th>parentItemId</th>\n",
       "      <th>sub_cat</th>\n",
       "      <th>main_cat</th>\n",
       "    </tr>\n",
       "  </thead>\n",
       "  <tbody>\n",
       "    <tr>\n",
       "      <th>1</th>\n",
       "      <td>Garth Brooks Anthology: The First Five Years (...</td>\n",
       "      <td>Books/Arts &amp; Entertainment Books/Music Books/M...</td>\n",
       "      <td>The first five years were filled with high adv...</td>\n",
       "      <td>Garth Brooks The Anthology</td>\n",
       "      <td>NaN</td>\n",
       "      <td>3920_582321_1318217</td>\n",
       "      <td>56155941.0</td>\n",
       "      <td>56155941.0</td>\n",
       "      <td>Arts &amp; Entertainment Books</td>\n",
       "      <td>Books</td>\n",
       "    </tr>\n",
       "    <tr>\n",
       "      <th>2</th>\n",
       "      <td>Special Edition Harry Potter Paperback Box Set</td>\n",
       "      <td>Books/Children's &amp; Kids' Books/Science Fiction...</td>\n",
       "      <td>The perfect gift for collectors and new reader...</td>\n",
       "      <td>The perfect gift for collectors and new reader...</td>\n",
       "      <td>9780545596275</td>\n",
       "      <td>3920_582053_586182</td>\n",
       "      <td>23466151.0</td>\n",
       "      <td>23466151.0</td>\n",
       "      <td>Children's &amp; Kids' Books</td>\n",
       "      <td>Books</td>\n",
       "    </tr>\n",
       "    <tr>\n",
       "      <th>3</th>\n",
       "      <td>StrengthsFinder 2.0</td>\n",
       "      <td>Books/Business &amp; Money Books/Development/General</td>\n",
       "      <td>An updated version of the StrengthsFinder prog...</td>\n",
       "      <td>StrengthsFinder 2.0 features the NEW and UPGRA...</td>\n",
       "      <td>NaN</td>\n",
       "      <td>3920_582349_7428141</td>\n",
       "      <td>5512335.0</td>\n",
       "      <td>5512335.0</td>\n",
       "      <td>Business &amp; Money Books</td>\n",
       "      <td>Books</td>\n",
       "    </tr>\n",
       "    <tr>\n",
       "      <th>4</th>\n",
       "      <td>Magnolia Table : A Collection of Recipes for G...</td>\n",
       "      <td>Books/Cookbooks, Food &amp; Wine/Cookbooks for Ent...</td>\n",
       "      <td>Details Coming Soon</td>\n",
       "      <td>Magnolia Table</td>\n",
       "      <td>NaN</td>\n",
       "      <td>3920_3036003_6652905</td>\n",
       "      <td>290970922.0</td>\n",
       "      <td>290970922.0</td>\n",
       "      <td>Cookbooks, Food &amp; Wine</td>\n",
       "      <td>Books</td>\n",
       "    </tr>\n",
       "    <tr>\n",
       "      <th>5</th>\n",
       "      <td>Oh, the Places You'll Go!</td>\n",
       "      <td>Books/Children's &amp; Kids' Books/Humor Children'...</td>\n",
       "      <td>Illustrated in full color, Dr. Seuss's 'The Pl...</td>\n",
       "      <td>Dr. Seussâs wonderfully wise Oh, the Places ...</td>\n",
       "      <td>NaN</td>\n",
       "      <td>3920_582053_582573</td>\n",
       "      <td>378996.0</td>\n",
       "      <td>378996.0</td>\n",
       "      <td>Children's &amp; Kids' Books</td>\n",
       "      <td>Books</td>\n",
       "    </tr>\n",
       "  </tbody>\n",
       "</table>\n",
       "</div>"
      ],
      "text/plain": [
       "                                                name  \\\n",
       "1  Garth Brooks Anthology: The First Five Years (...   \n",
       "2     Special Edition Harry Potter Paperback Box Set   \n",
       "3                                StrengthsFinder 2.0   \n",
       "4  Magnolia Table : A Collection of Recipes for G...   \n",
       "5                          Oh, the Places You'll Go!   \n",
       "\n",
       "                                        categoryPath  \\\n",
       "1  Books/Arts & Entertainment Books/Music Books/M...   \n",
       "2  Books/Children's & Kids' Books/Science Fiction...   \n",
       "3   Books/Business & Money Books/Development/General   \n",
       "4  Books/Cookbooks, Food & Wine/Cookbooks for Ent...   \n",
       "5  Books/Children's & Kids' Books/Humor Children'...   \n",
       "\n",
       "                                             shortDn  \\\n",
       "1  The first five years were filled with high adv...   \n",
       "2  The perfect gift for collectors and new reader...   \n",
       "3  An updated version of the StrengthsFinder prog...   \n",
       "4                                Details Coming Soon   \n",
       "5  Illustrated in full color, Dr. Seuss's 'The Pl...   \n",
       "\n",
       "                                              longDn          model  \\\n",
       "1                         Garth Brooks The Anthology            NaN   \n",
       "2  The perfect gift for collectors and new reader...  9780545596275   \n",
       "3  StrengthsFinder 2.0 features the NEW and UPGRA...            NaN   \n",
       "4                                     Magnolia Table            NaN   \n",
       "5  Dr. Seussâs wonderfully wise Oh, the Places ...            NaN   \n",
       "\n",
       "                catNode       itemId  parentItemId  \\\n",
       "1   3920_582321_1318217   56155941.0    56155941.0   \n",
       "2    3920_582053_586182   23466151.0    23466151.0   \n",
       "3   3920_582349_7428141    5512335.0     5512335.0   \n",
       "4  3920_3036003_6652905  290970922.0   290970922.0   \n",
       "5    3920_582053_582573     378996.0      378996.0   \n",
       "\n",
       "                      sub_cat main_cat  \n",
       "1  Arts & Entertainment Books    Books  \n",
       "2    Children's & Kids' Books    Books  \n",
       "3      Business & Money Books    Books  \n",
       "4      Cookbooks, Food & Wine    Books  \n",
       "5    Children's & Kids' Books    Books  "
      ]
     },
     "execution_count": 177,
     "metadata": {},
     "output_type": "execute_result"
    }
   ],
   "source": [
    "df.head()"
   ]
  },
  {
   "cell_type": "code",
   "execution_count": null,
   "metadata": {},
   "outputs": [],
   "source": []
  },
  {
   "cell_type": "code",
   "execution_count": null,
   "metadata": {},
   "outputs": [],
   "source": []
  },
  {
   "cell_type": "code",
   "execution_count": null,
   "metadata": {},
   "outputs": [],
   "source": []
  },
  {
   "cell_type": "code",
   "execution_count": 119,
   "metadata": {},
   "outputs": [],
   "source": []
  },
  {
   "cell_type": "code",
   "execution_count": null,
   "metadata": {},
   "outputs": [],
   "source": []
  },
  {
   "cell_type": "code",
   "execution_count": null,
   "metadata": {},
   "outputs": [],
   "source": []
  }
 ],
 "metadata": {
  "kernelspec": {
   "display_name": "Python 3",
   "language": "python",
   "name": "python3"
  },
  "language_info": {
   "codemirror_mode": {
    "name": "ipython",
    "version": 3
   },
   "file_extension": ".py",
   "mimetype": "text/x-python",
   "name": "python",
   "nbconvert_exporter": "python",
   "pygments_lexer": "ipython3",
   "version": "3.6.5"
  }
 },
 "nbformat": 4,
 "nbformat_minor": 2
}
